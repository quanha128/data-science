{
 "cells": [
  {
   "cell_type": "code",
   "execution_count": null,
   "id": "essential-distinction",
   "metadata": {},
   "outputs": [],
   "source": [
    "p_ill = 1/200\n",
    "p_posi_ill = 70/100\n",
    "p_nega_not_ill = 99/100\n",
    "p_posi_not_ill = 1 - p_nega_not_ill\n",
    "p_posi = p_posi_ill*p_ill + \n",
    "\n",
    "p_ill_posi = p_posi_ill * p_ill / p_posi"
   ]
  }
 ],
 "metadata": {
  "kernelspec": {
   "display_name": "Python 3",
   "language": "python",
   "name": "python3"
  },
  "language_info": {
   "codemirror_mode": {
    "name": "ipython",
    "version": 3
   },
   "file_extension": ".py",
   "mimetype": "text/x-python",
   "name": "python",
   "nbconvert_exporter": "python",
   "pygments_lexer": "ipython3",
   "version": "3.8.8"
  }
 },
 "nbformat": 4,
 "nbformat_minor": 5
}
