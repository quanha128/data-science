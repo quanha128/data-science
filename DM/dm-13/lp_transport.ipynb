{
 "cells": [
  {
   "cell_type": "markdown",
   "metadata": {},
   "source": [
    "### Sample program for transportation optimization problem  "
   ]
  },
  {
   "cell_type": "markdown",
   "metadata": {},
   "source": [
    "#### Import libraries  "
   ]
  },
  {
   "cell_type": "code",
   "execution_count": null,
   "metadata": {},
   "outputs": [],
   "source": [
    "import numpy as np\n",
    "import pandas as pd\n",
    "import pulp"
   ]
  },
  {
   "cell_type": "markdown",
   "metadata": {},
   "source": [
    "#### Parameters  "
   ]
  },
  {
   "cell_type": "code",
   "execution_count": null,
   "metadata": {},
   "outputs": [],
   "source": [
    "csv_cost = 'transport_cost.csv'\n",
    "csv_supply = 'transport_supply.csv'\n",
    "csv_demand = 'transport_demand.csv'"
   ]
  },
  {
   "cell_type": "markdown",
   "metadata": {},
   "source": [
    "#### Read data from CSV file  "
   ]
  },
  {
   "cell_type": "code",
   "execution_count": null,
   "metadata": {},
   "outputs": [],
   "source": [
    "df_cost=pd.read_csv(csv_cost, delimiter=',', skiprows=0, header=0)\n",
    "print(df_cost.shape)\n",
    "print(df_cost.info())\n",
    "display(df_cost)"
   ]
  },
  {
   "cell_type": "code",
   "execution_count": null,
   "metadata": {},
   "outputs": [],
   "source": [
    "df_supply = pd.read_csv(csv_supply, delimiter=',', skiprows=0, header=0)\n",
    "display(df_supply)\n",
    "ser_supply = df_supply['supply']\n",
    "ser_supply.index = df_supply['warehouse']\n",
    "print(ser_supply)"
   ]
  },
  {
   "cell_type": "code",
   "execution_count": null,
   "metadata": {},
   "outputs": [],
   "source": [
    "df_demand = pd.read_csv(csv_demand, delimiter=',', skiprows=0, header=0)\n",
    "display(df_demand)\n",
    "ser_demand = df_demand['demand']\n",
    "ser_demand.index = df_demand['factory']\n",
    "display(ser_demand)"
   ]
  },
  {
   "cell_type": "markdown",
   "metadata": {},
   "source": [
    "#### Define problem using PuLP functions  "
   ]
  },
  {
   "cell_type": "code",
   "execution_count": null,
   "metadata": {},
   "outputs": [],
   "source": [
    "problem = pulp.LpProblem('transport', pulp.LpMinimize)  # generate LpProblem object"
   ]
  },
  {
   "cell_type": "code",
   "execution_count": null,
   "metadata": {},
   "outputs": [],
   "source": [
    "var_list = []  # set LPVariables\n",
    "for i in range(df_cost.shape[0]):\n",
    "    var_list.append(pulp.LpVariable('v{}'.format(i), lowBound=0))\n",
    "df_cost['Var'] = var_list\n",
    "# or\n",
    "#df_cost['Var'] = [pulp.LpVariable('v{}'.format(i), lowBound=0) for i in range(df_cost.shape[0])]"
   ]
  },
  {
   "cell_type": "code",
   "execution_count": null,
   "metadata": {},
   "outputs": [],
   "source": [
    "display(df_cost)"
   ]
  },
  {
   "cell_type": "code",
   "execution_count": null,
   "metadata": {},
   "outputs": [],
   "source": [
    "problem += pulp.lpDot(df_cost['cost'], df_cost['Var'])  # add Object function"
   ]
  },
  {
   "cell_type": "code",
   "execution_count": null,
   "metadata": {},
   "outputs": [],
   "source": [
    "for w in ser_supply.index:\n",
    "    w_var = df_cost[ df_cost['from']==w ]\n",
    "    problem += pulp.lpSum(w_var['Var']) <= ser_supply[w]  # add Constraints for supply\n",
    "\n",
    "# or\n",
    "#for k, v in df_cost.groupby('from'):\n",
    "#    problem += pulp.lpSum(v['Var']) <= ser_supply[k]\n",
    "#    print(k)  # debug\n",
    "#    display(v)  # debug"
   ]
  },
  {
   "cell_type": "code",
   "execution_count": null,
   "metadata": {},
   "outputs": [],
   "source": [
    "for f in ser_demand.index:\n",
    "    f_var = df_cost[ df_cost['to']==f ]\n",
    "    problem += pulp.lpSum(f_var['Var']) >= ser_demand[f]  # add Constraints for demand\n",
    "    \n",
    "# or\n",
    "#for k, v in df_cost.groupby('to'):\n",
    "#    problem += pulp.lpSum(v['Var']) >= ser_demand[f]\n",
    "#    print(k)  # debug\n",
    "#    display(v)  # debug"
   ]
  },
  {
   "cell_type": "markdown",
   "metadata": {},
   "source": [
    "#### Check problem  "
   ]
  },
  {
   "cell_type": "code",
   "execution_count": null,
   "metadata": {},
   "outputs": [],
   "source": [
    "print(problem)"
   ]
  },
  {
   "cell_type": "markdown",
   "metadata": {},
   "source": [
    "#### Solve  "
   ]
  },
  {
   "cell_type": "code",
   "execution_count": null,
   "metadata": {},
   "outputs": [],
   "source": [
    "results = problem.solve()\n",
    "print(pulp.LpStatus[results])"
   ]
  },
  {
   "cell_type": "markdown",
   "metadata": {},
   "source": [
    "#### Show the results  "
   ]
  },
  {
   "cell_type": "code",
   "execution_count": null,
   "metadata": {},
   "outputs": [],
   "source": [
    "df_cost['Value'] = df_cost['Var'].apply(pulp.value)\n",
    "display(df_cost[df_cost['Value'] > 0])"
   ]
  },
  {
   "cell_type": "code",
   "execution_count": null,
   "metadata": {},
   "outputs": [],
   "source": [
    "print('Total cost:', np.sum(df_cost['cost']*df_cost['Value']))"
   ]
  },
  {
   "cell_type": "code",
   "execution_count": null,
   "metadata": {},
   "outputs": [],
   "source": []
  }
 ],
 "metadata": {
  "kernelspec": {
   "display_name": "Python 3",
   "language": "python",
   "name": "python3"
  },
  "language_info": {
   "codemirror_mode": {
    "name": "ipython",
    "version": 3
   },
   "file_extension": ".py",
   "mimetype": "text/x-python",
   "name": "python",
   "nbconvert_exporter": "python",
   "pygments_lexer": "ipython3",
   "version": "3.8.8"
  }
 },
 "nbformat": 4,
 "nbformat_minor": 4
}
