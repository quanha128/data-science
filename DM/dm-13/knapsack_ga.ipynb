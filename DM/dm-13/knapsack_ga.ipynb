{
 "cells": [
  {
   "cell_type": "markdown",
   "metadata": {},
   "source": [
    "### Sample notebook to solve knapsack problem using GA with deap library  "
   ]
  },
  {
   "cell_type": "code",
   "execution_count": 1,
   "metadata": {},
   "outputs": [],
   "source": [
    "import random\n",
    "import numpy as np\n",
    "import pandas as pd\n",
    "\n",
    "from deap import algorithms\n",
    "from deap import base\n",
    "from deap import creator\n",
    "from deap import tools"
   ]
  },
  {
   "cell_type": "markdown",
   "metadata": {},
   "source": [
    "#### Parameters  "
   ]
  },
  {
   "cell_type": "code",
   "execution_count": 2,
   "metadata": {},
   "outputs": [],
   "source": [
    "# Volume of each item\n",
    "c = np.array([16, 6, 10, 4, 29, 20, 36, 47])\n",
    "# Capacity of knapscak\n",
    "Ctot = 75\n",
    "# Value of each item\n",
    "v = np.array([19, 9, 13, 7, 32, 23, 39, 50])\n",
    "n_items = len(c)"
   ]
  },
  {
   "cell_type": "markdown",
   "metadata": {},
   "source": [
    "#### Setup of individual and population  "
   ]
  },
  {
   "cell_type": "code",
   "execution_count": 3,
   "metadata": {},
   "outputs": [],
   "source": [
    "creator.create(\"FitnessMax\", base.Fitness, weights=(1.0,))\n",
    "creator.create(\"Individual\", np.ndarray, fitness=creator.FitnessMax)\n",
    "\n",
    "toolbox = base.Toolbox()\n",
    "toolbox.register(\"all_zero\", random.randint, 0, 0)\n",
    "toolbox.register(\"individual\", tools.initRepeat, creator.Individual,\n",
    "                 toolbox.all_zero, n=n_items)\n",
    "toolbox.register(\"population\", tools.initRepeat, list, toolbox.individual)"
   ]
  },
  {
   "cell_type": "markdown",
   "metadata": {},
   "source": [
    "#### Functions for fitness and evolution  "
   ]
  },
  {
   "cell_type": "code",
   "execution_count": 4,
   "metadata": {},
   "outputs": [],
   "source": [
    "def tot_value(individual):\n",
    "    tot_volume = (individual * c).sum()\n",
    "    if tot_volume > Ctot:\n",
    "        value = -1.0e99\n",
    "    else:\n",
    "        value = (individual * v).sum()\n",
    "    return value,\n",
    "    \n",
    "def cxTwoPointCopy(ind1, ind2):\n",
    "    size = len(ind1)\n",
    "    cxpt1 = random.randint(1, size)\n",
    "    cxpt2 = random.randint(1, size - 1)\n",
    "    if cxpt2 >= cxpt1:\n",
    "        cxpt2 += 1\n",
    "    else: # Swap the two cx points\n",
    "        cxpt1, cxpt2 = cxpt2, cxpt1\n",
    "\n",
    "    ind1[cxpt1:cxpt2], ind2[cxpt1:cxpt2] = ind2[cxpt1:cxpt2].copy(), ind1[cxpt1:cxpt2].copy()\n",
    "        \n",
    "    return ind1, ind2"
   ]
  },
  {
   "cell_type": "markdown",
   "metadata": {},
   "source": [
    "#### Register functions  "
   ]
  },
  {
   "cell_type": "code",
   "execution_count": 5,
   "metadata": {},
   "outputs": [],
   "source": [
    "toolbox.register(\"evaluate\", tot_value)\n",
    "toolbox.register(\"mate\", cxTwoPointCopy)\n",
    "toolbox.register(\"mutate\", tools.mutFlipBit, indpb=0.2)\n",
    "toolbox.register(\"select\", tools.selTournament, tournsize=3)"
   ]
  },
  {
   "cell_type": "markdown",
   "metadata": {},
   "source": [
    "#### Execute GA  \n",
    "should be run several times and see the robustness of the results  "
   ]
  },
  {
   "cell_type": "code",
   "execution_count": 6,
   "metadata": {},
   "outputs": [
    {
     "output_type": "stream",
     "name": "stdout",
     "text": [
      "gen\tnevals\tavg\tstd\tmin\tmax\n0  \t50    \t0  \t0  \t0  \t0  \n1  \t34    \t5.48\t14.3502\t0  \t68 \n2  \t29    \t-4e+97\t1.95959e+98\t-1e+99\t78 \n3  \t30    \t-1.4e+98\t3.46987e+98\t-1e+99\t78 \n4  \t29    \t-4e+97  \t1.95959e+98\t-1e+99\t84 \n5  \t30    \t-2e+98  \t4e+98      \t-1e+99\t84 \n6  \t35    \t-2.4e+98\t4.27083e+98\t-1e+99\t87 \n7  \t33    \t-1.2e+98\t3.24962e+98\t-1e+99\t87 \n8  \t30    \t-2e+98  \t4e+98      \t-1e+99\t87 \n9  \t35    \t-1.8e+98\t3.84187e+98\t-1e+99\t87 \n10 \t26    \t-1.2e+98\t3.24962e+98\t-1e+99\t87 \n11 \t27    \t-1e+98  \t3e+98      \t-1e+99\t87 \n12 \t33    \t-1.4e+98\t3.46987e+98\t-1e+99\t87 \n13 \t33    \t-4e+97  \t1.95959e+98\t-1e+99\t87 \n14 \t31    \t-2e+97  \t1.4e+98    \t-1e+99\t87 \n15 \t34    \t-6e+97  \t2.37487e+98\t-1e+99\t87 \n16 \t24    \t-6e+97  \t2.37487e+98\t-1e+99\t87 \n17 \t18    \t-8e+97  \t2.71293e+98\t-1e+99\t87 \n18 \t30    \t-4e+97  \t1.95959e+98\t-1e+99\t87 \n19 \t29    \t-6e+97  \t2.37487e+98\t-1e+99\t87 \n20 \t25    \t-8e+97  \t2.71293e+98\t-1e+99\t87 \n21 \t36    \t-1.2e+98\t3.24962e+98\t-1e+99\t87 \n22 \t32    \t-1e+98  \t3e+98      \t-1e+99\t87 \n23 \t36    \t-1.8e+98\t3.84187e+98\t-1e+99\t87 \n24 \t26    \t-1.4e+98\t3.46987e+98\t-1e+99\t87 \n25 \t24    \t-1e+98  \t3e+98      \t-1e+99\t87 \n26 \t39    \t-2e+97  \t1.4e+98    \t-1e+99\t87 \n27 \t25    \t-6e+97  \t2.37487e+98\t-1e+99\t87 \n28 \t31    \t-4e+97  \t1.95959e+98\t-1e+99\t87 \n29 \t25    \t-4e+97  \t1.95959e+98\t-1e+99\t87 \n30 \t31    \t-6e+97  \t2.37487e+98\t-1e+99\t87 \n31 \t40    \t-1.4e+98\t3.46987e+98\t-1e+99\t87 \n32 \t35    \t-8e+97  \t2.71293e+98\t-1e+99\t87 \n33 \t27    \t-6e+97  \t2.37487e+98\t-1e+99\t87 \n34 \t28    \t-4e+97  \t1.95959e+98\t-1e+99\t87 \n35 \t30    \t-8e+97  \t2.71293e+98\t-1e+99\t87 \n36 \t28    \t-1.2e+98\t3.24962e+98\t-1e+99\t87 \n37 \t28    \t-1.2e+98\t3.24962e+98\t-1e+99\t87 \n38 \t31    \t-4e+97  \t1.95959e+98\t-1e+99\t87 \n39 \t26    \t-6e+97  \t2.37487e+98\t-1e+99\t87 \n40 \t32    \t-4e+97  \t1.95959e+98\t-1e+99\t87 \n41 \t33    \t-2e+97  \t1.4e+98    \t-1e+99\t87 \n42 \t30    \t-1e+98  \t3e+98      \t-1e+99\t87 \n43 \t28    \t-6e+97  \t2.37487e+98\t-1e+99\t87 \n44 \t27    \t-6e+97  \t2.37487e+98\t-1e+99\t87 \n45 \t36    \t-8e+97  \t2.71293e+98\t-1e+99\t87 \n46 \t32    \t-1.2e+98\t3.24962e+98\t-1e+99\t87 \n47 \t23    \t-8e+97  \t2.71293e+98\t-1e+99\t87 \n48 \t31    \t-8e+97  \t2.71293e+98\t-1e+99\t87 \n49 \t37    \t-6e+97  \t2.37487e+98\t-1e+99\t87 \n50 \t31    \t-1.2e+98\t3.24962e+98\t-1e+99\t87 \n51 \t31    \t-1.2e+98\t3.24962e+98\t-1e+99\t87 \n52 \t27    \t-6e+97  \t2.37487e+98\t-1e+99\t87 \n53 \t31    \t-4e+97  \t1.95959e+98\t-1e+99\t87 \n54 \t23    \t-1e+98  \t3e+98      \t-1e+99\t87 \n55 \t14    \t-2e+97  \t1.4e+98    \t-1e+99\t87 \n56 \t32    \t-8e+97  \t2.71293e+98\t-1e+99\t87 \n57 \t30    \t-6e+97  \t2.37487e+98\t-1e+99\t87 \n58 \t29    \t-8e+97  \t2.71293e+98\t-1e+99\t87 \n59 \t24    \t-2e+97  \t1.4e+98    \t-1e+99\t90 \n60 \t33    \t-1.4e+98\t3.46987e+98\t-1e+99\t90 \n61 \t35    \t-1e+98  \t3e+98      \t-1e+99\t90 \n62 \t40    \t-1.4e+98\t3.46987e+98\t-1e+99\t87 \n63 \t32    \t-2e+97  \t1.4e+98    \t-1e+99\t87 \n64 \t28    \t-2e+97  \t1.4e+98    \t-1e+99\t87 \n65 \t34    \t-6e+97  \t2.37487e+98\t-1e+99\t87 \n66 \t27    \t-1.2e+98\t3.24962e+98\t-1e+99\t87 \n67 \t31    \t-4e+97  \t1.95959e+98\t-1e+99\t87 \n68 \t36    \t-6e+97  \t2.37487e+98\t-1e+99\t87 \n69 \t32    \t-6e+97  \t2.37487e+98\t-1e+99\t87 \n70 \t27    \t-8e+97  \t2.71293e+98\t-1e+99\t87 \n71 \t37    \t-1e+98  \t3e+98      \t-1e+99\t87 \n72 \t30    \t-1.2e+98\t3.24962e+98\t-1e+99\t87 \n73 \t23    \t-4e+97  \t1.95959e+98\t-1e+99\t87 \n74 \t35    \t-4e+97  \t1.95959e+98\t-1e+99\t87 \n75 \t30    \t-6e+97  \t2.37487e+98\t-1e+99\t90 \n76 \t25    \t-1.6e+98\t3.66606e+98\t-1e+99\t90 \n77 \t28    \t-1e+98  \t3e+98      \t-1e+99\t90 \n78 \t28    \t-6e+97  \t2.37487e+98\t-1e+99\t90 \n79 \t21    \t-6e+97  \t2.37487e+98\t-1e+99\t90 \n80 \t24    \t-1.6e+98\t3.66606e+98\t-1e+99\t90 \n81 \t24    \t-1e+98  \t3e+98      \t-1e+99\t90 \n82 \t30    \t-4e+97  \t1.95959e+98\t-1e+99\t90 \n83 \t29    \t-1e+98  \t3e+98      \t-1e+99\t90 \n84 \t37    \t-1e+98  \t3e+98      \t-1e+99\t90 \n85 \t34    \t-8e+97  \t2.71293e+98\t-1e+99\t90 \n86 \t34    \t-8e+97  \t2.71293e+98\t-1e+99\t90 \n87 \t38    \t-8e+97  \t2.71293e+98\t-1e+99\t90 \n88 \t26    \t-8e+97  \t2.71293e+98\t-1e+99\t90 \n89 \t31    \t-8e+97  \t2.71293e+98\t-1e+99\t90 \n90 \t30    \t-2e+97  \t1.4e+98    \t-1e+99\t90 \n91 \t27    \t-1.2e+98\t3.24962e+98\t-1e+99\t90 \n92 \t28    \t-1e+98  \t3e+98      \t-1e+99\t90 \n93 \t31    \t-1e+98  \t3e+98      \t-1e+99\t90 \n94 \t29    \t-2e+97  \t1.4e+98    \t-1e+99\t90 \n95 \t31    \t-2e+97  \t1.4e+98    \t-1e+99\t90 \n96 \t27    \t-2e+97  \t1.4e+98    \t-1e+99\t90 \n97 \t36    \t-6e+97  \t2.37487e+98\t-1e+99\t90 \n98 \t28    \t87.68   \t9.30256    \t30    \t90 \n99 \t36    \t-2.2e+98\t4.14246e+98\t-1e+99\t90 \n100\t29    \t-6e+97  \t2.37487e+98\t-1e+99\t90 \nHOF: [1 1 0 1 1 1 0 0]\n(Individual(90),)\n"
     ]
    }
   ],
   "source": [
    "#random.seed(11)\n",
    "pop = toolbox.population(n=50)\n",
    "hof = tools.HallOfFame(1, similar=np.array_equal)\n",
    "stats = tools.Statistics(lambda ind: ind.fitness.values)\n",
    "stats.register(\"avg\", np.mean)\n",
    "stats.register(\"std\", np.std)\n",
    "stats.register(\"min\", np.min)\n",
    "stats.register(\"max\", np.max)\n",
    "    \n",
    "algorithms.eaSimple(pop, toolbox, cxpb=0.5, mutpb=0.2,\n",
    "                    ngen=100, stats=stats, halloffame=hof)\n",
    "\n",
    "print('HOF:', hof[0])\n",
    "print(tot_value(hof[0]))"
   ]
  },
  {
   "cell_type": "code",
   "execution_count": null,
   "metadata": {},
   "outputs": [],
   "source": []
  }
 ],
 "metadata": {
  "kernelspec": {
   "name": "python3",
   "display_name": "Python 3.8.10 64-bit"
  },
  "language_info": {
   "codemirror_mode": {
    "name": "ipython",
    "version": 3
   },
   "file_extension": ".py",
   "mimetype": "text/x-python",
   "name": "python",
   "nbconvert_exporter": "python",
   "pygments_lexer": "ipython3",
   "version": "3.8.10"
  },
  "interpreter": {
   "hash": "916dbcbb3f70747c44a77c7bcd40155683ae19c65e1c03b4aa3499c5328201f1"
  }
 },
 "nbformat": 4,
 "nbformat_minor": 4
}