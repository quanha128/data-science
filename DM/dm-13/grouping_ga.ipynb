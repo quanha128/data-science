{
 "cells": [
  {
   "cell_type": "markdown",
   "metadata": {},
   "source": [
    "### Sample notebook to search best grouping using GA with deap library  \n",
    "6 members: UID 0-5  \n",
    "3 groups: GID 0-2\n",
    "4 skills: Management, NeedsResearch, Design, Programming  \n",
    "Skill levels (scores) of each member is in CSV file group_members.csv  \n",
    "Cost function:  \n",
    "The sum of mean absolute deviations of total scores of members in each team  \n",
    "+ absolute deviations of averaged total scores of members among teams  "
   ]
  },
  {
   "cell_type": "code",
   "execution_count": 11,
   "metadata": {},
   "outputs": [],
   "source": [
    "import random\n",
    "import numpy as np\n",
    "import pandas as pd\n",
    "\n",
    "from deap import algorithms\n",
    "from deap import base\n",
    "from deap import creator\n",
    "from deap import tools"
   ]
  },
  {
   "cell_type": "markdown",
   "metadata": {},
   "source": [
    "#### Parameters  "
   ]
  },
  {
   "cell_type": "code",
   "execution_count": 12,
   "metadata": {},
   "outputs": [],
   "source": [
    "csv_in = 'group_members.csv'\n",
    "n_group = 3"
   ]
  },
  {
   "cell_type": "markdown",
   "metadata": {},
   "source": [
    "#### Read member info from CSV file  "
   ]
  },
  {
   "cell_type": "code",
   "execution_count": 13,
   "metadata": {},
   "outputs": [
    {
     "output_type": "stream",
     "name": "stdout",
     "text": [
      "(6, 4)\n<class 'pandas.core.frame.DataFrame'>\nRangeIndex: 6 entries, 0 to 5\nData columns (total 4 columns):\n #   Column         Non-Null Count  Dtype\n---  ------         --------------  -----\n 0   Management     6 non-null      int64\n 1   NeedsResearch  6 non-null      int64\n 2   Design         6 non-null      int64\n 3   Programming    6 non-null      int64\ndtypes: int64(4)\nmemory usage: 320.0 bytes\nNone\n"
     ]
    },
    {
     "output_type": "display_data",
     "data": {
      "text/plain": "   Management  NeedsResearch  Design  Programming\n0           8              2       3            5\n1           4              1       5            7\n2           4              6       2            2\n3           5              6       7            2\n4           2              4       3            6\n5           4              5       1            3",
      "text/html": "<div>\n<style scoped>\n    .dataframe tbody tr th:only-of-type {\n        vertical-align: middle;\n    }\n\n    .dataframe tbody tr th {\n        vertical-align: top;\n    }\n\n    .dataframe thead th {\n        text-align: right;\n    }\n</style>\n<table border=\"1\" class=\"dataframe\">\n  <thead>\n    <tr style=\"text-align: right;\">\n      <th></th>\n      <th>Management</th>\n      <th>NeedsResearch</th>\n      <th>Design</th>\n      <th>Programming</th>\n    </tr>\n  </thead>\n  <tbody>\n    <tr>\n      <th>0</th>\n      <td>8</td>\n      <td>2</td>\n      <td>3</td>\n      <td>5</td>\n    </tr>\n    <tr>\n      <th>1</th>\n      <td>4</td>\n      <td>1</td>\n      <td>5</td>\n      <td>7</td>\n    </tr>\n    <tr>\n      <th>2</th>\n      <td>4</td>\n      <td>6</td>\n      <td>2</td>\n      <td>2</td>\n    </tr>\n    <tr>\n      <th>3</th>\n      <td>5</td>\n      <td>6</td>\n      <td>7</td>\n      <td>2</td>\n    </tr>\n    <tr>\n      <th>4</th>\n      <td>2</td>\n      <td>4</td>\n      <td>3</td>\n      <td>6</td>\n    </tr>\n    <tr>\n      <th>5</th>\n      <td>4</td>\n      <td>5</td>\n      <td>1</td>\n      <td>3</td>\n    </tr>\n  </tbody>\n</table>\n</div>"
     },
     "metadata": {}
    }
   ],
   "source": [
    "df = pd.read_csv(csv_in, delimiter=',', skiprows=0, header=0)\n",
    "print(df.shape)\n",
    "print(df.info())\n",
    "display(df)\n",
    "n_member = df.shape[0]\n",
    "n_skill = df.shape[1]"
   ]
  },
  {
   "cell_type": "markdown",
   "metadata": {},
   "source": [
    "#### Setup of individual and population  "
   ]
  },
  {
   "cell_type": "code",
   "execution_count": 14,
   "metadata": {},
   "outputs": [
    {
     "output_type": "stream",
     "name": "stderr",
     "text": [
      "/home/iniad/.local/lib/python3.8/site-packages/deap/creator.py:138: RuntimeWarning: A class named 'FitnessMin' has already been created and it will be overwritten. Consider deleting previous creation of that class or rename it.\n  warnings.warn(\"A class named '{0}' has already been created and it \"\n/home/iniad/.local/lib/python3.8/site-packages/deap/creator.py:138: RuntimeWarning: A class named 'Individual' has already been created and it will be overwritten. Consider deleting previous creation of that class or rename it.\n  warnings.warn(\"A class named '{0}' has already been created and it \"\n"
     ]
    }
   ],
   "source": [
    "creator.create(\"FitnessMin\", base.Fitness, weights=(-1.0,))\n",
    "creator.create(\"Individual\", np.ndarray, fitness=creator.FitnessMin)\n",
    "\n",
    "toolbox = base.Toolbox()\n",
    "toolbox.register(\"attr_grp\", random.randint, 0, n_group-1)\n",
    "toolbox.register(\"individual\", tools.initRepeat, creator.Individual,\n",
    "                 toolbox.attr_grp, n=n_member)\n",
    "toolbox.register(\"population\", tools.initRepeat, list, toolbox.individual)"
   ]
  },
  {
   "cell_type": "markdown",
   "metadata": {},
   "source": [
    "#### Functions for fitness and evolution  "
   ]
  },
  {
   "cell_type": "code",
   "execution_count": 15,
   "metadata": {},
   "outputs": [],
   "source": [
    "def energy(individual):\n",
    "    ene = 0.0\n",
    "    tot_mem = df.sum(axis=1)\n",
    "    ave_all = tot_mem.sum() / n_group\n",
    "    for i in range(n_group):\n",
    "        tot_skill_grp = df[ individual==i ].sum()\n",
    "        ene += tot_skill_grp.mad()\n",
    "        ene += np.abs(tot_mem[ individual==i ].sum() - ave_all)\n",
    "    return ene,\n",
    "\n",
    "def mutatOne(individual, indpb):\n",
    "    for i in range(len(individual)):\n",
    "        if random.random() < indpb:\n",
    "            old = individual[i]\n",
    "            new = old\n",
    "            while old==new:\n",
    "                new = random.randint(0, n_group-1)\n",
    "            individual[i] = new\n",
    "    return individual,\n",
    "    \n",
    "def cxTwoPointCopy(ind1, ind2):\n",
    "    size = len(ind1)\n",
    "    cxpt1 = random.randint(1, size)\n",
    "    cxpt2 = random.randint(1, size - 1)\n",
    "    if cxpt2 >= cxpt1:\n",
    "        cxpt2 += 1\n",
    "    else: # Swap the two cx points\n",
    "        cxpt1, cxpt2 = cxpt2, cxpt1\n",
    "\n",
    "    ind1[cxpt1:cxpt2], ind2[cxpt1:cxpt2] = ind2[cxpt1:cxpt2].copy(), ind1[cxpt1:cxpt2].copy()\n",
    "        \n",
    "    return ind1, ind2"
   ]
  },
  {
   "cell_type": "markdown",
   "metadata": {},
   "source": [
    "#### Register functions  "
   ]
  },
  {
   "cell_type": "code",
   "execution_count": 16,
   "metadata": {},
   "outputs": [],
   "source": [
    "toolbox.register(\"evaluate\", energy)\n",
    "toolbox.register(\"mate\", cxTwoPointCopy)\n",
    "toolbox.register(\"mutate\", mutatOne, indpb=0.2)\n",
    "toolbox.register(\"select\", tools.selTournament, tournsize=3)"
   ]
  },
  {
   "cell_type": "markdown",
   "metadata": {},
   "source": [
    "#### Execute GA\n",
    "should be run several times and see the robustness of the results  "
   ]
  },
  {
   "cell_type": "code",
   "execution_count": 17,
   "metadata": {},
   "outputs": [
    {
     "output_type": "stream",
     "name": "stdout",
     "text": [
      "gen\tnevals\tavg    \tstd    \tmin    \tmax    \n",
      "0  \t10    \t55.1208\t15.3213\t31.9167\t71.3333\n",
      "1  \t10    \t48.0917\t18.5571\t16.1667\t69.4167\n",
      "2  \t5     \t40.5083\t23.3757\t16.1667\t80.3333\n",
      "3  \t10    \t31.2833\t10.9948\t16.1667\t46.7083\n",
      "4  \t7     \t22.9792\t8.05552\t16.1667\t35.2917\n",
      "5  \t5     \t20.8667\t9.48934\t16.1667\t45.6667\n",
      "6  \t8     \t18.8417\t8.025  \t16.1667\t42.9167\n",
      "7  \t5     \t24.3667\t10.6535\t16.1667\t45.6667\n",
      "8  \t4     \t26.1875\t18.7572\t16.1667\t77.2083\n",
      "9  \t5     \t15.8917\t0.825  \t13.4167\t16.1667\n",
      "10 \t8     \t22.1708\t10.0712\t13.4167\t42.2083\n",
      "11 \t4     \t29.3333\t19.1318\t13.4167\t69.9167\n",
      "12 \t6     \t19.2042\t10.5398\t13.4167\t45.0417\n",
      "13 \t8     \t21.85  \t12.9512\t13.4167\t43.4167\n",
      "14 \t8     \t13.4167\t1.77636e-15\t13.4167\t13.4167\n",
      "15 \t4     \t16.7083\t9.45229    \t13.4167\t45.0417\n",
      "16 \t8     \t16.4333\t9.05       \t13.4167\t43.5833\n",
      "17 \t4     \t21.6708\t13.1649    \t13.4167\t50.7083\n",
      "18 \t8     \t17.7333\t8.74276    \t13.4167\t38.0833\n",
      "19 \t3     \t15.4917\t6.225      \t13.4167\t34.1667\n",
      "20 \t2     \t19.0167\t11.2089    \t13.4167\t42.4167\n",
      "21 \t3     \t21.3583\t12.3328    \t13.4167\t43.0833\n",
      "22 \t10    \t20.9333\t15.7608    \t13.4167\t61.5833\n",
      "23 \t7     \t15.8833\t7.4        \t13.4167\t38.0833\n",
      "24 \t6     \t17.1458\t11.1875    \t13.4167\t50.7083\n",
      "25 \t4     \t22.7458\t19.1215    \t13.4167\t69.4167\n",
      "26 \t8     \t16.3917\t8.925      \t13.4167\t43.1667\n",
      "27 \t5     \t16.4167\t9          \t13.4167\t43.4167\n",
      "28 \t6     \t17.1458\t11.1875    \t13.4167\t50.7083\n",
      "29 \t8     \t15.8667\t7.35       \t13.4167\t37.9167\n",
      "30 \t4     \t18.9833\t11.1583    \t13.4167\t42.9167\n",
      "31 \t7     \t13.6917\t0.825      \t13.4167\t16.1667\n",
      "32 \t9     \t16.3833\t8.9        \t13.4167\t43.0833\n",
      "33 \t7     \t13.4167\t1.77636e-15\t13.4167\t13.4167\n",
      "34 \t6     \t13.4167\t1.77636e-15\t13.4167\t13.4167\n",
      "35 \t2     \t13.4167\t1.77636e-15\t13.4167\t13.4167\n",
      "36 \t8     \t27.5458\t19.0224    \t13.4167\t70.0417\n",
      "37 \t8     \t21.2   \t11.9972    \t13.4167\t43.4167\n",
      "38 \t6     \t21.1917\t12.0626    \t13.4167\t43.4167\n",
      "39 \t8     \t25.55  \t27.9476    \t13.4167\t105.083\n",
      "40 \t5     \t13.4167\t1.77636e-15\t13.4167\t13.4167\n",
      "41 \t6     \t16.2333\t8.45       \t13.4167\t41.5833\n",
      "42 \t6     \t19.5833\t18.5       \t13.4167\t75.0833\n",
      "43 \t5     \t15.8833\t7.4        \t13.4167\t38.0833\n",
      "44 \t6     \t16.3167\t8.7        \t13.4167\t42.4167\n",
      "45 \t7     \t19.2833\t11.7343    \t13.4167\t43.0833\n",
      "46 \t5     \t16.3833\t8.9        \t13.4167\t43.0833\n",
      "47 \t6     \t15.8833\t7.4        \t13.4167\t38.0833\n",
      "48 \t7     \t29.5792\t25.5114    \t13.4167\t76.0833\n",
      "49 \t8     \t23.3792\t12.4238    \t13.4167\t40.5417\n",
      "50 \t4     \t13.4167\t1.77636e-15\t13.4167\t13.4167\n",
      "51 \t7     \t16.4167\t9          \t13.4167\t43.4167\n",
      "52 \t2     \t13.4167\t1.77636e-15\t13.4167\t13.4167\n",
      "53 \t8     \t26.225 \t25.6169    \t13.4167\t77.7083\n",
      "54 \t4     \t19.2833\t17.6       \t13.4167\t72.0833\n",
      "55 \t3     \t15.9458\t7.5875     \t13.4167\t38.7083\n",
      "56 \t2     \t13.4167\t1.77636e-15\t13.4167\t13.4167\n",
      "57 \t8     \t13.4167\t1.77636e-15\t13.4167\t13.4167\n",
      "58 \t8     \t17.5708\t8.30834    \t13.4167\t34.2083\n",
      "59 \t10    \t18.9333\t11.0364    \t13.4167\t41.5833\n",
      "60 \t6     \t16.3167\t8.7        \t13.4167\t42.4167\n",
      "61 \t5     \t26.375 \t20.9573    \t13.4167\t74.0833\n",
      "62 \t8     \t21.8417\t18.157     \t13.4167\t70.6667\n",
      "63 \t5     \t13.4167\t1.77636e-15\t13.4167\t13.4167\n",
      "64 \t8     \t24.275 \t13.4965    \t13.4167\t45.0417\n",
      "65 \t5     \t26.2375\t16.9002    \t13.4167\t59.0833\n",
      "66 \t6     \t35.3125\t27.5614    \t13.4167\t96.5833\n",
      "67 \t8     \t17.1458\t11.1875    \t13.4167\t50.7083\n",
      "68 \t8     \t16.3667\t8.85       \t13.4167\t42.9167\n",
      "69 \t8     \t15.7333\t9.06288    \t7.58333\t42.4167\n",
      "70 \t5     \t26.8417\t20.6295    \t13.4167\t68.6667\n",
      "71 \t5     \t24.7167\t18.0174    \t13.4167\t59.0833\n",
      "72 \t8     \t19.5833\t18.5       \t13.4167\t75.0833\n",
      "73 \t3     \t17.1458\t11.1875    \t13.4167\t50.7083\n",
      "74 \t6     \t16.0333\t7.85       \t13.4167\t39.5833\n",
      "75 \t4     \t16.6417\t9.675      \t13.4167\t45.6667\n",
      "76 \t5     \t13.5458\t0.3875     \t13.4167\t14.7083\n",
      "77 \t0     \t13.4167\t1.77636e-15\t13.4167\t13.4167\n",
      "78 \t8     \t24.8417\t22.0808    \t13.4167\t69.7083\n",
      "79 \t3     \t16.7333\t8.94441    \t13.4167\t43.4167\n",
      "80 \t7     \t24.0833\t18.1195    \t13.4167\t69.4167\n",
      "81 \t5     \t21.8333\t12.8775    \t13.4167\t42.4167\n",
      "82 \t9     \t22.1458\t13.405     \t13.4167\t45.0417\n",
      "83 \t3     \t13.4167\t1.77636e-15\t13.4167\t13.4167\n",
      "84 \t8     \t26.6458\t20.8887    \t13.4167\t75.0833\n",
      "85 \t8     \t14.6833\t6.0696     \t7.41667\t32.0833\n",
      "86 \t7     \t18.5417\t17.4668    \t7.41667\t70.6667\n",
      "87 \t4     \t16.7833\t16.3221    \t7.41667\t65.0833\n",
      "88 \t8     \t20.7   \t20.5508    \t7.41667\t69.4167\n",
      "89 \t6     \t13.9833\t12.605     \t7.41667\t43.4167\n",
      "90 \t2     \t13.4792\t18.1875    \t7.41667\t68.0417\n",
      "91 \t9     \t10.5833\t9.5        \t7.41667\t39.0833\n",
      "92 \t6     \t13.5167\t18.3       \t7.41667\t68.4167\n",
      "93 \t6     \t13.5167\t18.3       \t7.41667\t68.4167\n",
      "94 \t6     \t13.5833\t12.3909    \t7.41667\t40.9167\n",
      "95 \t8     \t14.8333\t16.2038    \t7.41667\t59.0833\n",
      "96 \t9     \t9.66667\t6.75       \t7.41667\t29.9167\n",
      "97 \t8     \t10.7667\t10.05      \t7.41667\t40.9167\n",
      "98 \t4     \t9.66667\t6.75       \t7.41667\t29.9167\n",
      "99 \t6     \t10.9792\t10.6875    \t7.41667\t43.0417\n",
      "100\t7     \t9.88333\t7.4        \t7.41667\t32.0833\n"
     ]
    }
   ],
   "source": [
    "random.seed(11)\n",
    "pop = toolbox.population(n=10)\n",
    "hof = tools.HallOfFame(1, similar=np.array_equal)\n",
    "stats = tools.Statistics(lambda ind: ind.fitness.values)\n",
    "stats.register(\"avg\", np.mean)\n",
    "stats.register(\"std\", np.std)\n",
    "stats.register(\"min\", np.min)\n",
    "stats.register(\"max\", np.max)\n",
    "    \n",
    "results = algorithms.eaSimple(pop, toolbox, cxpb=0.5, mutpb=0.2,\n",
    "                              ngen=100, stats=stats, halloffame=hof)"
   ]
  },
  {
   "cell_type": "markdown",
   "metadata": {},
   "source": [
    "#### Output results  "
   ]
  },
  {
   "cell_type": "code",
   "execution_count": 18,
   "metadata": {},
   "outputs": [
    {
     "output_type": "stream",
     "name": "stdout",
     "text": [
      "HOF: [1 0 0 2 1 2]\n(7.416666666666664,)\n"
     ]
    }
   ],
   "source": [
    "print('HOF:', hof[0])\n",
    "print(energy(hof[0]))"
   ]
  },
  {
   "cell_type": "code",
   "execution_count": null,
   "metadata": {},
   "outputs": [],
   "source": []
  }
 ],
 "metadata": {
  "kernelspec": {
   "name": "python3",
   "display_name": "Python 3.8.10 64-bit"
  },
  "language_info": {
   "codemirror_mode": {
    "name": "ipython",
    "version": 3
   },
   "file_extension": ".py",
   "mimetype": "text/x-python",
   "name": "python",
   "nbconvert_exporter": "python",
   "pygments_lexer": "ipython3",
   "version": "3.8.10"
  },
  "interpreter": {
   "hash": "916dbcbb3f70747c44a77c7bcd40155683ae19c65e1c03b4aa3499c5328201f1"
  }
 },
 "nbformat": 4,
 "nbformat_minor": 4
}