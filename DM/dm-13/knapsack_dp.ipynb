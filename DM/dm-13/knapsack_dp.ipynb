{
 "cells": [
  {
   "cell_type": "markdown",
   "metadata": {},
   "source": [
    "### Sample notebook to solve knapsack problem using Dynamic Programming   "
   ]
  },
  {
   "cell_type": "markdown",
   "metadata": {},
   "source": [
    "#### Import libraries  "
   ]
  },
  {
   "cell_type": "code",
   "execution_count": null,
   "metadata": {},
   "outputs": [],
   "source": [
    "import numpy as np"
   ]
  },
  {
   "cell_type": "markdown",
   "metadata": {},
   "source": [
    "#### Parameters  "
   ]
  },
  {
   "cell_type": "code",
   "execution_count": null,
   "metadata": {},
   "outputs": [],
   "source": [
    "# Volume of each item\n",
    "c = np.array([16, 6, 10, 4, 29, 20, 36, 47])\n",
    "# Capacity of knapscak\n",
    "Ctot = 75\n",
    "# Value of each item\n",
    "v = np.array([19, 9, 13, 7, 32, 23, 39, 50])\n",
    "n_items = len(c)"
   ]
  },
  {
   "cell_type": "markdown",
   "metadata": {},
   "source": [
    "#### Setup memos  "
   ]
  },
  {
   "cell_type": "code",
   "execution_count": null,
   "metadata": {},
   "outputs": [],
   "source": [
    "memo = np.empty((n_items+1,Ctot+1), dtype='int')\n",
    "for i in range(n_items+1):\n",
    "    for j in range(Ctot+1):\n",
    "        memo[i][j]=(-99)"
   ]
  },
  {
   "cell_type": "markdown",
   "metadata": {},
   "source": [
    "#### Definition of search function (called recursively)  "
   ]
  },
  {
   "cell_type": "code",
   "execution_count": null,
   "metadata": {},
   "outputs": [],
   "source": [
    "def A(i, j):\n",
    "    if i > n_items-1: return 0\n",
    "    a1 = memo[i+1][j]\n",
    "    if a1 < 0: a1 = A(i+1, j)\n",
    "    if j-c[i] >= 0:\n",
    "        a2 = memo[i+1][j-c[i]]\n",
    "        if a2 < 0:\n",
    "            a2 = A(i+1, j-c[i])\n",
    "        a2 += v[i]\n",
    "        ret = max(a1,a2)\n",
    "    else:\n",
    "        ret = a1\n",
    "    memo[i][j] = ret\n",
    "    return ret"
   ]
  },
  {
   "cell_type": "markdown",
   "metadata": {},
   "source": [
    "#### Execute Dynamic programming  "
   ]
  },
  {
   "cell_type": "code",
   "execution_count": null,
   "metadata": {},
   "outputs": [],
   "source": [
    "print(A(0,Ctot))"
   ]
  },
  {
   "cell_type": "markdown",
   "metadata": {},
   "source": [
    "#### Additional \"backtrack\" procedure is needed to obtain optimal choice of items.  "
   ]
  }
 ],
 "metadata": {
  "kernelspec": {
   "display_name": "Python 3",
   "language": "python",
   "name": "python3"
  },
  "language_info": {
   "codemirror_mode": {
    "name": "ipython",
    "version": 3
   },
   "file_extension": ".py",
   "mimetype": "text/x-python",
   "name": "python",
   "nbconvert_exporter": "python",
   "pygments_lexer": "ipython3",
   "version": "3.8.8"
  }
 },
 "nbformat": 4,
 "nbformat_minor": 4
}
