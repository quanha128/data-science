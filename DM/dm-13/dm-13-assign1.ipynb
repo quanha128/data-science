{
 "cells": [
  {
   "cell_type": "markdown",
   "metadata": {},
   "source": [
    "### Sample notebook to search best grouping using GA with deap library  \n",
    "6 members: UID 0-5  \n",
    "3 groups: GID 0-2\n",
    "4 skills: Management, NeedsResearch, Design, Programming  \n",
    "Skill levels (scores) of each member is in CSV file group_members.csv  \n",
    "Cost function:  \n",
    "The sum of mean absolute deviations of total scores of members in each team  \n",
    "+ absolute deviations of averaged total scores of members among teams  "
   ]
  },
  {
   "cell_type": "code",
   "execution_count": 29,
   "metadata": {},
   "outputs": [],
   "source": [
    "import random\n",
    "import numpy as np\n",
    "import pandas as pd\n",
    "\n",
    "from deap import algorithms\n",
    "from deap import base\n",
    "from deap import creator\n",
    "from deap import tools"
   ]
  },
  {
   "cell_type": "markdown",
   "metadata": {},
   "source": [
    "#### Parameters  "
   ]
  },
  {
   "cell_type": "code",
   "execution_count": 30,
   "metadata": {},
   "outputs": [],
   "source": [
    "csv_in = 'group_prev.csv'\n",
    "n_group = 4"
   ]
  },
  {
   "cell_type": "markdown",
   "metadata": {},
   "source": [
    "#### Read member info from CSV file  "
   ]
  },
  {
   "cell_type": "code",
   "execution_count": 31,
   "metadata": {},
   "outputs": [
    {
     "output_type": "stream",
     "name": "stdout",
     "text": [
      "(16, 3)\n<class 'pandas.core.frame.DataFrame'>\nRangeIndex: 16 entries, 0 to 15\nData columns (total 3 columns):\n #   Column  Non-Null Count  Dtype\n---  ------  --------------  -----\n 0   prev1   16 non-null     int64\n 1   prev2   16 non-null     int64\n 2   prev3   16 non-null     int64\ndtypes: int64(3)\nmemory usage: 512.0 bytes\nNone\n"
     ]
    },
    {
     "output_type": "display_data",
     "data": {
      "text/plain": "    prev1  prev2  prev3\n0       0      0      0\n1       0      1      1\n2       0      2      2\n3       0      3      3\n4       1      0      1\n5       1      1      2\n6       1      2      3\n7       1      3      0\n8       2      0      2\n9       2      1      3\n10      2      2      0\n11      2      3      1\n12      3      0      3\n13      3      1      0\n14      3      2      1\n15      3      3      2",
      "text/html": "<div>\n<style scoped>\n    .dataframe tbody tr th:only-of-type {\n        vertical-align: middle;\n    }\n\n    .dataframe tbody tr th {\n        vertical-align: top;\n    }\n\n    .dataframe thead th {\n        text-align: right;\n    }\n</style>\n<table border=\"1\" class=\"dataframe\">\n  <thead>\n    <tr style=\"text-align: right;\">\n      <th></th>\n      <th>prev1</th>\n      <th>prev2</th>\n      <th>prev3</th>\n    </tr>\n  </thead>\n  <tbody>\n    <tr>\n      <th>0</th>\n      <td>0</td>\n      <td>0</td>\n      <td>0</td>\n    </tr>\n    <tr>\n      <th>1</th>\n      <td>0</td>\n      <td>1</td>\n      <td>1</td>\n    </tr>\n    <tr>\n      <th>2</th>\n      <td>0</td>\n      <td>2</td>\n      <td>2</td>\n    </tr>\n    <tr>\n      <th>3</th>\n      <td>0</td>\n      <td>3</td>\n      <td>3</td>\n    </tr>\n    <tr>\n      <th>4</th>\n      <td>1</td>\n      <td>0</td>\n      <td>1</td>\n    </tr>\n    <tr>\n      <th>5</th>\n      <td>1</td>\n      <td>1</td>\n      <td>2</td>\n    </tr>\n    <tr>\n      <th>6</th>\n      <td>1</td>\n      <td>2</td>\n      <td>3</td>\n    </tr>\n    <tr>\n      <th>7</th>\n      <td>1</td>\n      <td>3</td>\n      <td>0</td>\n    </tr>\n    <tr>\n      <th>8</th>\n      <td>2</td>\n      <td>0</td>\n      <td>2</td>\n    </tr>\n    <tr>\n      <th>9</th>\n      <td>2</td>\n      <td>1</td>\n      <td>3</td>\n    </tr>\n    <tr>\n      <th>10</th>\n      <td>2</td>\n      <td>2</td>\n      <td>0</td>\n    </tr>\n    <tr>\n      <th>11</th>\n      <td>2</td>\n      <td>3</td>\n      <td>1</td>\n    </tr>\n    <tr>\n      <th>12</th>\n      <td>3</td>\n      <td>0</td>\n      <td>3</td>\n    </tr>\n    <tr>\n      <th>13</th>\n      <td>3</td>\n      <td>1</td>\n      <td>0</td>\n    </tr>\n    <tr>\n      <th>14</th>\n      <td>3</td>\n      <td>2</td>\n      <td>1</td>\n    </tr>\n    <tr>\n      <th>15</th>\n      <td>3</td>\n      <td>3</td>\n      <td>2</td>\n    </tr>\n  </tbody>\n</table>\n</div>"
     },
     "metadata": {}
    },
    {
     "output_type": "display_data",
     "data": {
      "text/plain": "16"
     },
     "metadata": {}
    }
   ],
   "source": [
    "df = pd.read_csv(csv_in, delimiter=',', skiprows=0, header=0)\n",
    "print(df.shape)\n",
    "print(df.info())\n",
    "display(df)\n",
    "n_member = df.shape[0]\n",
    "display(n_member)"
   ]
  },
  {
   "cell_type": "markdown",
   "metadata": {},
   "source": [
    "#### Setup of individual and population  "
   ]
  },
  {
   "cell_type": "code",
   "execution_count": 32,
   "metadata": {},
   "outputs": [
    {
     "output_type": "stream",
     "name": "stderr",
     "text": [
      "/home/iniad/.local/lib/python3.8/site-packages/deap/creator.py:138: RuntimeWarning: A class named 'FitnessMin' has already been created and it will be overwritten. Consider deleting previous creation of that class or rename it.\n  warnings.warn(\"A class named '{0}' has already been created and it \"\n/home/iniad/.local/lib/python3.8/site-packages/deap/creator.py:138: RuntimeWarning: A class named 'Individual' has already been created and it will be overwritten. Consider deleting previous creation of that class or rename it.\n  warnings.warn(\"A class named '{0}' has already been created and it \"\n"
     ]
    }
   ],
   "source": [
    "creator.create(\"FitnessMin\", base.Fitness, weights=(-1.0,))\n",
    "creator.create(\"Individual\", np.ndarray, fitness=creator.FitnessMin)\n",
    "\n",
    "toolbox = base.Toolbox()\n",
    "toolbox.register(\"attr_grp\", random.randint, 0, n_group-1)\n",
    "toolbox.register(\"individual\", tools.initRepeat, creator.Individual,\n",
    "                 toolbox.attr_grp, n=n_member)\n",
    "toolbox.register(\"population\", tools.initRepeat, list, toolbox.individual)"
   ]
  },
  {
   "cell_type": "markdown",
   "metadata": {},
   "source": [
    "#### Functions for fitness and evolution  "
   ]
  },
  {
   "cell_type": "code",
   "execution_count": 33,
   "metadata": {},
   "outputs": [],
   "source": [
    "def energy(individual):\n",
    "    ene = 0.0\n",
    "    same_gr = 0\n",
    "    for i in range(n_member-1):\n",
    "        for j in range (i+1, n_member):\n",
    "            if df.loc[i]['prev1'] == df.loc[j]['prev1']:\n",
    "                same_gr += 1\n",
    "            if df.loc[i]['prev2'] == df.loc[j]['prev2']:\n",
    "                same_gr += 1\n",
    "            if df.loc[i]['prev3'] == df.loc[j]['prev3']:\n",
    "                same_gr += 1\n",
    "    # print(same_gr)\n",
    "    for i in range(n_group):\n",
    "        # n_member\n",
    "        ene += np.var(np.unique(individual, return_counts=True)[1])\n",
    "        # n_pair\n",
    "        ene += same_gr\n",
    "    return ene,\n",
    "\n",
    "def mutatOne(individual, indpb):\n",
    "    for i in range(len(individual)):\n",
    "        if random.random() < indpb:\n",
    "            old = individual[i]\n",
    "            new = old\n",
    "            while old==new:\n",
    "                new = random.randint(0, n_group-1)\n",
    "            individual[i] = new\n",
    "    return individual,\n",
    "    \n",
    "def cxTwoPointCopy(ind1, ind2):\n",
    "    size = len(ind1)\n",
    "    cxpt1 = random.randint(1, size)\n",
    "    cxpt2 = random.randint(1, size - 1)\n",
    "    if cxpt2 >= cxpt1:\n",
    "        cxpt2 += 1\n",
    "    else: # Swap the two cx points\n",
    "        cxpt1, cxpt2 = cxpt2, cxpt1\n",
    "\n",
    "    ind1[cxpt1:cxpt2], ind2[cxpt1:cxpt2] = ind2[cxpt1:cxpt2].copy(), ind1[cxpt1:cxpt2].copy()\n",
    "        \n",
    "    return ind1, ind2"
   ]
  },
  {
   "cell_type": "markdown",
   "metadata": {},
   "source": [
    "#### Register functions  "
   ]
  },
  {
   "cell_type": "code",
   "execution_count": 34,
   "metadata": {},
   "outputs": [],
   "source": [
    "toolbox.register(\"evaluate\", energy)\n",
    "toolbox.register(\"mate\", cxTwoPointCopy)\n",
    "toolbox.register(\"mutate\", mutatOne, indpb=0.2)\n",
    "toolbox.register(\"select\", tools.selTournament, tournsize=3)"
   ]
  },
  {
   "cell_type": "markdown",
   "metadata": {},
   "source": [
    "#### Execute GA\n",
    "should be run several times and see the robustness of the results  "
   ]
  },
  {
   "cell_type": "code",
   "execution_count": 35,
   "metadata": {},
   "outputs": [
    {
     "output_type": "stream",
     "name": "stdout",
     "text": [
      "gen\tnevals\tavg    \tstd    \tmin    \tmax\n",
      "0  \t10    \t300.556\t7.26789\t291.556\t314\n",
      "1  \t6     \t296.133\t4.22479\t291.556\t302\n",
      "2  \t8     \t295.089\t6.31084\t288.889\t308\n",
      "3  \t9     \t292.067\t4.01239\t288.889\t302\n",
      "4  \t6     \t291.133\t3.55757\t288.889\t300\n",
      "5  \t8     \t290.867\t2.94216\t288.889\t298\n",
      "6  \t2     \t290.378\t2.48263\t288.889\t296\n",
      "7  \t4     \t291.067\t5.70016\t288.889\t308\n",
      "8  \t4     \t291.311\t4.86504\t288.889\t302\n",
      "9  \t7     \t289.422\t1.6    \t288.889\t294.222\n",
      "10 \t6     \t288.889\t5.68434e-14\t288.889\t288.889\n",
      "11 \t5     \t291.778\t4.77855    \t288.889\t302    \n",
      "12 \t5     \t288.889\t5.68434e-14\t288.889\t288.889\n",
      "13 \t5     \t290.8  \t5.73333    \t288.889\t308    \n",
      "14 \t9     \t292.644\t6.51566    \t288.889\t308    \n",
      "15 \t6     \t293.378\t5.40032    \t288.889\t302    \n",
      "16 \t8     \t291.578\t4.79758    \t288.889\t302    \n",
      "17 \t6     \t288.889\t5.68434e-14\t288.889\t288.889\n",
      "18 \t6     \t291.4  \t7.53333    \t288.889\t314    \n",
      "19 \t5     \t291.2  \t6.93333    \t288.889\t312    \n",
      "20 \t6     \t288.889\t5.68434e-14\t288.889\t288.889\n",
      "21 \t9     \t294.622\t9.15965    \t288.889\t314    \n",
      "22 \t6     \t290.467\t3.92579    \t288.889\t302    \n",
      "23 \t3     \t291.311\t5.3356     \t288.889\t306    \n",
      "24 \t4     \t292.089\t7.9822     \t288.889\t315.556\n",
      "25 \t6     \t290.844\t4.04151    \t288.889\t302    \n",
      "26 \t7     \t291.644\t4.46573    \t288.889\t300    \n",
      "27 \t4     \t288.889\t5.68434e-14\t288.889\t288.889\n",
      "28 \t9     \t291.4  \t7.53333    \t288.889\t314    \n",
      "29 \t5     \t291.956\t4.27776    \t288.889\t302    \n",
      "30 \t6     \t290.6  \t5.13333    \t288.889\t306    \n",
      "31 \t6     \t290.467\t3.92579    \t288.889\t302    \n",
      "32 \t8     \t289.8  \t2.73333    \t288.889\t298    \n",
      "33 \t10    \t291.756\t4.33812    \t288.889\t302    \n",
      "34 \t3     \t291.644\t3.83383    \t288.889\t302    \n",
      "35 \t6     \t289.6  \t2.13333    \t288.889\t296    \n",
      "36 \t7     \t293.222\t8.76821    \t288.889\t318    \n",
      "37 \t6     \t293.222\t8.00509    \t288.889\t314    \n",
      "38 \t7     \t291.711\t5.8017     \t288.889\t306    \n",
      "39 \t5     \t292.378\t6.19203    \t288.889\t308    \n",
      "40 \t8     \t291.333\t5.65423    \t288.889\t308    \n",
      "41 \t2     \t288.889\t5.68434e-14\t288.889\t288.889\n",
      "42 \t1     \t290.2  \t3.93333    \t288.889\t302    \n",
      "43 \t7     \t291.533\t4.07395    \t288.889\t302    \n",
      "44 \t8     \t290.489\t3.2        \t288.889\t299.556\n",
      "45 \t7     \t290.6  \t5.13333    \t288.889\t306    \n",
      "46 \t6     \t288.889\t5.68434e-14\t288.889\t288.889\n",
      "47 \t7     \t289.2  \t0.933333   \t288.889\t292    \n",
      "48 \t6     \t288.889\t5.68434e-14\t288.889\t288.889\n",
      "49 \t4     \t292.111\t6.58262    \t288.889\t308    \n",
      "50 \t4     \t290.111\t2.78842    \t288.889\t298    \n",
      "51 \t6     \t291.133\t5.20441    \t288.889\t306    \n",
      "52 \t3     \t290.2  \t3.93333    \t288.889\t302    \n",
      "53 \t1     \t290.2  \t3.93333    \t288.889\t302    \n",
      "54 \t9     \t294.222\t8.73138    \t288.889\t314    \n",
      "55 \t9     \t292.756\t6.4599     \t288.889\t308    \n",
      "56 \t7     \t292.333\t5.70055    \t288.889\t306    \n",
      "57 \t6     \t290.822\t4.02345    \t288.889\t302    \n",
      "58 \t8     \t291.822\t7.95096    \t288.889\t315.556\n",
      "59 \t5     \t289.711\t2.12231    \t288.889\t296    \n",
      "60 \t6     \t291.311\t5.7679     \t288.889\t308    \n",
      "61 \t7     \t291    \t4.03595    \t288.889\t302    \n",
      "62 \t5     \t291.911\t6.11026    \t288.889\t306    \n",
      "63 \t7     \t292.044\t5.51971    \t288.889\t306    \n",
      "64 \t6     \t288.889\t5.68434e-14\t288.889\t288.889\n",
      "65 \t2     \t293.911\t14.7       \t288.889\t338    \n",
      "66 \t5     \t289.4  \t1.53333    \t288.889\t294    \n",
      "67 \t5     \t291.511\t5.24444    \t288.889\t302    \n",
      "68 \t6     \t288.889\t5.68434e-14\t288.889\t288.889\n",
      "69 \t6     \t292.311\t6.84444    \t288.889\t306    \n",
      "70 \t7     \t291.422\t4.29435    \t288.889\t302    \n",
      "71 \t4     \t292.467\t7.85074    \t288.889\t314    \n",
      "72 \t9     \t293.933\t5.01361    \t288.889\t304    \n",
      "73 \t6     \t294.311\t5.38053    \t288.889\t302    \n",
      "74 \t5     \t293.533\t5.78414    \t288.889\t302    \n",
      "75 \t4     \t288.889\t5.68434e-14\t288.889\t288.889\n",
      "76 \t4     \t293.044\t7.16786    \t288.889\t308    \n",
      "77 \t5     \t289.156\t0.8        \t288.889\t291.556\n",
      "78 \t6     \t288.889\t5.68434e-14\t288.889\t288.889\n",
      "79 \t6     \t288.889\t5.68434e-14\t288.889\t288.889\n",
      "80 \t4     \t290.533\t3.53354    \t288.889\t300    \n",
      "81 \t9     \t293.489\t7.90002    \t288.889\t314    \n",
      "82 \t5     \t290.467\t3.92579    \t288.889\t302    \n",
      "83 \t8     \t291.667\t5.7394     \t288.889\t306    \n",
      "84 \t7     \t293.733\t7.4029     \t288.889\t308    \n",
      "85 \t3     \t291.778\t4.14073    \t288.889\t302    \n",
      "86 \t8     \t290.511\t4.50848    \t288.889\t304    \n",
      "87 \t8     \t290.867\t5.10671    \t288.889\t306    \n",
      "88 \t3     \t291.044\t4.04426    \t288.889\t302    \n",
      "89 \t9     \t295.378\t7.2893     \t288.889\t308    \n",
      "90 \t7     \t293.867\t7.45833    \t288.889\t314    \n",
      "91 \t6     \t291.556\t3.88349    \t288.889\t302    \n",
      "92 \t8     \t292.956\t5.25033    \t288.889\t302    \n",
      "93 \t4     \t289.422\t1.6        \t288.889\t294.222\n",
      "94 \t5     \t289.422\t1.6        \t288.889\t294.222\n",
      "95 \t9     \t291.378\t2.99761    \t288.889\t298    \n",
      "96 \t8     \t292.711\t7.64444    \t288.889\t308    \n",
      "97 \t3     \t293.422\t7.58634    \t288.889\t308    \n",
      "98 \t8     \t292.622\t6.13092    \t288.889\t306    \n",
      "99 \t5     \t289.422\t1.6        \t288.889\t294.222\n",
      "100\t3     \t290.2  \t3.93333    \t288.889\t302    \n"
     ]
    }
   ],
   "source": [
    "random.seed(19)\n",
    "pop = toolbox.population(n=10)\n",
    "hof = tools.HallOfFame(1, similar=np.array_equal)\n",
    "stats = tools.Statistics(lambda ind: ind.fitness.values)\n",
    "stats.register(\"avg\", np.mean)\n",
    "stats.register(\"std\", np.std)\n",
    "stats.register(\"min\", np.min)\n",
    "stats.register(\"max\", np.max)\n",
    "    \n",
    "results = algorithms.eaSimple(pop, toolbox, cxpb=0.5, mutpb=0.2,\n",
    "                              ngen=100, stats=stats, halloffame=hof)"
   ]
  },
  {
   "cell_type": "markdown",
   "metadata": {},
   "source": [
    "#### Output results  "
   ]
  },
  {
   "cell_type": "code",
   "execution_count": 36,
   "metadata": {},
   "outputs": [
    {
     "output_type": "stream",
     "name": "stdout",
     "text": [
      "HOF: [1 3 3 0 3 3 1 1 1 3 0 3 0 1 0 0]\n(288.8888888888889,)\n"
     ]
    }
   ],
   "source": [
    "print('HOF:', hof[0])\n",
    "print(energy(hof[0]))"
   ]
  },
  {
   "cell_type": "code",
   "execution_count": null,
   "metadata": {},
   "outputs": [],
   "source": []
  }
 ],
 "metadata": {
  "kernelspec": {
   "name": "python3",
   "display_name": "Python 3.8.10 64-bit"
  },
  "language_info": {
   "codemirror_mode": {
    "name": "ipython",
    "version": 3
   },
   "file_extension": ".py",
   "mimetype": "text/x-python",
   "name": "python",
   "nbconvert_exporter": "python",
   "pygments_lexer": "ipython3",
   "version": "3.8.10"
  },
  "interpreter": {
   "hash": "916dbcbb3f70747c44a77c7bcd40155683ae19c65e1c03b4aa3499c5328201f1"
  }
 },
 "nbformat": 4,
 "nbformat_minor": 4
}