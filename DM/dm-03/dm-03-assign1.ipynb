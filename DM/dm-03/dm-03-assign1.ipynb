{
 "cells": [
  {
   "cell_type": "code",
   "execution_count": 1,
   "id": "dependent-jewelry",
   "metadata": {},
   "outputs": [],
   "source": [
    "import numpy as np\n",
    "import pandas as pd\n",
    "import scipy.stats as ss"
   ]
  },
  {
   "cell_type": "code",
   "execution_count": 2,
   "id": "adaptive-ending",
   "metadata": {},
   "outputs": [
    {
     "name": "stdout",
     "output_type": "stream",
     "text": [
      "(200, 5)\n",
      "<class 'pandas.core.frame.DataFrame'>\n",
      "RangeIndex: 200 entries, 0 to 199\n",
      "Data columns (total 5 columns):\n",
      " #   Column  Non-Null Count  Dtype \n",
      "---  ------  --------------  ----- \n",
      " 0   ShopID  200 non-null    int64 \n",
      " 1   Pref    200 non-null    object\n",
      " 2   Type    200 non-null    object\n",
      " 3   Sales1  200 non-null    int64 \n",
      " 4   Sales2  200 non-null    int64 \n",
      "dtypes: int64(3), object(2)\n",
      "memory usage: 7.9+ KB\n",
      "None\n"
     ]
    },
    {
     "data": {
      "text/html": [
       "<div>\n",
       "<style scoped>\n",
       "    .dataframe tbody tr th:only-of-type {\n",
       "        vertical-align: middle;\n",
       "    }\n",
       "\n",
       "    .dataframe tbody tr th {\n",
       "        vertical-align: top;\n",
       "    }\n",
       "\n",
       "    .dataframe thead th {\n",
       "        text-align: right;\n",
       "    }\n",
       "</style>\n",
       "<table border=\"1\" class=\"dataframe\">\n",
       "  <thead>\n",
       "    <tr style=\"text-align: right;\">\n",
       "      <th></th>\n",
       "      <th>ShopID</th>\n",
       "      <th>Pref</th>\n",
       "      <th>Type</th>\n",
       "      <th>Sales1</th>\n",
       "      <th>Sales2</th>\n",
       "    </tr>\n",
       "  </thead>\n",
       "  <tbody>\n",
       "    <tr>\n",
       "      <th>0</th>\n",
       "      <td>101</td>\n",
       "      <td>Saitama</td>\n",
       "      <td>franchise</td>\n",
       "      <td>108</td>\n",
       "      <td>110</td>\n",
       "    </tr>\n",
       "    <tr>\n",
       "      <th>1</th>\n",
       "      <td>102</td>\n",
       "      <td>Saitama</td>\n",
       "      <td>direct</td>\n",
       "      <td>94</td>\n",
       "      <td>108</td>\n",
       "    </tr>\n",
       "    <tr>\n",
       "      <th>2</th>\n",
       "      <td>103</td>\n",
       "      <td>Tokyo</td>\n",
       "      <td>direct</td>\n",
       "      <td>103</td>\n",
       "      <td>89</td>\n",
       "    </tr>\n",
       "    <tr>\n",
       "      <th>3</th>\n",
       "      <td>104</td>\n",
       "      <td>Saitama</td>\n",
       "      <td>franchise</td>\n",
       "      <td>99</td>\n",
       "      <td>122</td>\n",
       "    </tr>\n",
       "    <tr>\n",
       "      <th>4</th>\n",
       "      <td>105</td>\n",
       "      <td>Kanagawa</td>\n",
       "      <td>franchise</td>\n",
       "      <td>113</td>\n",
       "      <td>109</td>\n",
       "    </tr>\n",
       "  </tbody>\n",
       "</table>\n",
       "</div>"
      ],
      "text/plain": [
       "   ShopID      Pref       Type  Sales1  Sales2\n",
       "0     101   Saitama  franchise     108     110\n",
       "1     102   Saitama     direct      94     108\n",
       "2     103     Tokyo     direct     103      89\n",
       "3     104   Saitama  franchise      99     122\n",
       "4     105  Kanagawa  franchise     113     109"
      ]
     },
     "metadata": {},
     "output_type": "display_data"
    }
   ],
   "source": [
    "csv_in = \"shop_sales.csv\"\n",
    "df = pd.read_csv(csv_in, delimiter=',')\n",
    "print(df.shape)\n",
    "print(df.info())\n",
    "display(df.head())"
   ]
  },
  {
   "cell_type": "markdown",
   "id": "qualified-company",
   "metadata": {},
   "source": [
    "1."
   ]
  },
  {
   "cell_type": "code",
   "execution_count": 3,
   "id": "pacific-verse",
   "metadata": {},
   "outputs": [
    {
     "data": {
      "text/plain": [
       "0    108\n",
       "1     94\n",
       "2    103\n",
       "3     99\n",
       "4    113\n",
       "Name: Sales1, dtype: int64"
      ]
     },
     "metadata": {},
     "output_type": "display_data"
    },
    {
     "data": {
      "text/plain": [
       "0    110\n",
       "1    108\n",
       "2     89\n",
       "3    122\n",
       "4    109\n",
       "Name: Sales2, dtype: int64"
      ]
     },
     "metadata": {},
     "output_type": "display_data"
    },
    {
     "name": "stdout",
     "output_type": "stream",
     "text": [
      "Reject H0: t_value = 9.227723073665455 p_value = 2.0675782068478105e-17\n"
     ]
    }
   ],
   "source": [
    "sales1 = df['Sales1']\n",
    "sales2 = df['Sales2']\n",
    "display(sales1.head())\n",
    "display(sales2.head())\n",
    "alpha = 0.05\n",
    "\n",
    "t_value, p_value = ss.ttest_1samp(sales2-sales1, 0.0)\n",
    "if t_value > 0 and p_value / 2 < alpha:\n",
    "    print(\"Reject H0: t_value = {} p_value = {}\".format(t_value, p_value/2))\n",
    "else:\n",
    "    print(\"Retail H0: t_value = {} p_value = {}\".format(t_value, p_value/2))"
   ]
  },
  {
   "cell_type": "markdown",
   "id": "blind-hawaiian",
   "metadata": {},
   "source": [
    "2."
   ]
  },
  {
   "cell_type": "code",
   "execution_count": 4,
   "id": "alike-edmonton",
   "metadata": {},
   "outputs": [
    {
     "data": {
      "text/plain": [
       "2     89\n",
       "5    121\n",
       "6     90\n",
       "7    103\n",
       "8    108\n",
       "Name: Sales2, dtype: int64"
      ]
     },
     "metadata": {},
     "output_type": "display_data"
    },
    {
     "data": {
      "text/plain": [
       "14    134\n",
       "21    114\n",
       "23    130\n",
       "29    110\n",
       "30    127\n",
       "Name: Sales2, dtype: int64"
      ]
     },
     "metadata": {},
     "output_type": "display_data"
    },
    {
     "name": "stdout",
     "output_type": "stream",
     "text": [
      "Retain H0: t_value = -0.014203050540638733 and p_value = 0.9887077113871919\n"
     ]
    }
   ],
   "source": [
    "sales2_tokyo = df[df['Pref'] == 'Tokyo']['Sales2']\n",
    "sales2_chiba = df[df['Pref'] == 'Chiba']['Sales2']\n",
    "display(sales2_tokyo.head())\n",
    "display(sales2_chiba.head())\n",
    "alpha = 0.05\n",
    "\n",
    "t, p = ss.ttest_ind(sales2_tokyo, sales2_chiba, equal_var=False)\n",
    "if p < alpha:\n",
    "    print('Reject H0: t_value = {} and p_value = {}'.format(t, p))\n",
    "else:\n",
    "    print('Retain H0: t_value = {} and p_value = {}'.format(t, p))"
   ]
  },
  {
   "cell_type": "markdown",
   "id": "offensive-dominican",
   "metadata": {},
   "source": [
    "3."
   ]
  },
  {
   "cell_type": "code",
   "execution_count": 5,
   "id": "soviet-apple",
   "metadata": {},
   "outputs": [
    {
     "data": {
      "text/html": [
       "<div>\n",
       "<style scoped>\n",
       "    .dataframe tbody tr th:only-of-type {\n",
       "        vertical-align: middle;\n",
       "    }\n",
       "\n",
       "    .dataframe tbody tr th {\n",
       "        vertical-align: top;\n",
       "    }\n",
       "\n",
       "    .dataframe thead th {\n",
       "        text-align: right;\n",
       "    }\n",
       "</style>\n",
       "<table border=\"1\" class=\"dataframe\">\n",
       "  <thead>\n",
       "    <tr style=\"text-align: right;\">\n",
       "      <th>Pref</th>\n",
       "      <th>Chiba</th>\n",
       "      <th>Kanagawa</th>\n",
       "      <th>Saitama</th>\n",
       "      <th>Tokyo</th>\n",
       "    </tr>\n",
       "    <tr>\n",
       "      <th>Type</th>\n",
       "      <th></th>\n",
       "      <th></th>\n",
       "      <th></th>\n",
       "      <th></th>\n",
       "    </tr>\n",
       "  </thead>\n",
       "  <tbody>\n",
       "    <tr>\n",
       "      <th>direct</th>\n",
       "      <td>13</td>\n",
       "      <td>28</td>\n",
       "      <td>24</td>\n",
       "      <td>34</td>\n",
       "    </tr>\n",
       "    <tr>\n",
       "      <th>franchise</th>\n",
       "      <td>15</td>\n",
       "      <td>30</td>\n",
       "      <td>25</td>\n",
       "      <td>31</td>\n",
       "    </tr>\n",
       "  </tbody>\n",
       "</table>\n",
       "</div>"
      ],
      "text/plain": [
       "Pref       Chiba  Kanagawa  Saitama  Tokyo\n",
       "Type                                      \n",
       "direct        13        28       24     34\n",
       "franchise     15        30       25     31"
      ]
     },
     "metadata": {},
     "output_type": "display_data"
    }
   ],
   "source": [
    "crosstab = pd.crosstab(df[\"Type\"], df[\"Pref\"])\n",
    "display(crosstab)"
   ]
  },
  {
   "cell_type": "code",
   "execution_count": 7,
   "id": "running-compensation",
   "metadata": {},
   "outputs": [
    {
     "name": "stdout",
     "output_type": "stream",
     "text": [
      "0.35072743456882416 0.9502219446727902 3 [[13.86  28.71  24.255 32.175]\n",
      " [14.14  29.29  24.745 32.825]]\n",
      "Retain H0: p_val = 0.9502219446727902\n"
     ]
    }
   ],
   "source": [
    "chi_sq, p_val, dof, expected = ss.chi2_contingency(crosstab)\n",
    "print(chi_sq, p_val, dof, expected)\n",
    "if p_val < 0.05:\n",
    "    print(\"Reject H0: p_val = {}\".format(p_val))\n",
    "else:\n",
    "    print(\"Retain H0: p_val = {}\".format(p_val))"
   ]
  },
  {
   "cell_type": "markdown",
   "id": "powerful-congo",
   "metadata": {},
   "source": [
    "4."
   ]
  },
  {
   "cell_type": "code",
   "execution_count": 8,
   "id": "controlling-third",
   "metadata": {},
   "outputs": [
    {
     "name": "stdout",
     "output_type": "stream",
     "text": [
      "200\n",
      "Tokyo       65\n",
      "Kanagawa    58\n",
      "Saitama     49\n",
      "Chiba       28\n",
      "Name: Pref, dtype: int64\n"
     ]
    }
   ],
   "source": [
    "shop_freq = df['Pref'].value_counts()\n",
    "n_shops = df['Pref'].value_counts().sum()\n",
    "print(n_shops)\n",
    "print(shop_freq)"
   ]
  },
  {
   "cell_type": "code",
   "execution_count": 9,
   "id": "perceived-graph",
   "metadata": {},
   "outputs": [
    {
     "name": "stdout",
     "output_type": "stream",
     "text": [
      "Tokyo       14.0\n",
      "Saitama      7.3\n",
      "Chiba        6.3\n",
      "Kanagawa     9.2\n",
      "Name: pop, dtype: float64\n"
     ]
    }
   ],
   "source": [
    "pop = pd.Series({'Tokyo':14.0, 'Saitama':7.3, 'Chiba':6.3, 'Kanagawa':9.2}, name='pop')\n",
    "print(pop)"
   ]
  },
  {
   "cell_type": "code",
   "execution_count": 10,
   "id": "moved-survival",
   "metadata": {},
   "outputs": [
    {
     "name": "stdout",
     "output_type": "stream",
     "text": [
      "Tokyo       0.380435\n",
      "Saitama     0.198370\n",
      "Chiba       0.171196\n",
      "Kanagawa    0.250000\n",
      "Name: pop, dtype: float64\n"
     ]
    }
   ],
   "source": [
    "pop_ratio = pop / pop.sum()\n",
    "print(pop_ratio)"
   ]
  },
  {
   "cell_type": "code",
   "execution_count": 11,
   "id": "indoor-carter",
   "metadata": {},
   "outputs": [
    {
     "name": "stdout",
     "output_type": "stream",
     "text": [
      "Tokyo       76.086957\n",
      "Kanagawa    50.000000\n",
      "Saitama     39.673913\n",
      "Chiba       34.239130\n",
      "Name: pop, dtype: float64\n"
     ]
    }
   ],
   "source": [
    "shop_exp = pop_ratio * n_shops\n",
    "shop_exp = shop_exp[ shop_freq.index ]\n",
    "print(shop_exp)"
   ]
  },
  {
   "cell_type": "code",
   "execution_count": 12,
   "id": "acquired-completion",
   "metadata": {},
   "outputs": [
    {
     "name": "stdout",
     "output_type": "stream",
     "text": [
      "6.224705370732769 0.10117516999032702\n"
     ]
    }
   ],
   "source": [
    "chi2, p = ss.chisquare(shop_freq, f_exp=shop_exp)\n",
    "print(chi2, p)"
   ]
  },
  {
   "cell_type": "code",
   "execution_count": null,
   "id": "executed-table",
   "metadata": {},
   "outputs": [],
   "source": []
  }
 ],
 "metadata": {
  "kernelspec": {
   "display_name": "Python 3",
   "language": "python",
   "name": "python3"
  },
  "language_info": {
   "codemirror_mode": {
    "name": "ipython",
    "version": 3
   },
   "file_extension": ".py",
   "mimetype": "text/x-python",
   "name": "python",
   "nbconvert_exporter": "python",
   "pygments_lexer": "ipython3",
   "version": "3.8.8"
  }
 },
 "nbformat": 4,
 "nbformat_minor": 5
}
