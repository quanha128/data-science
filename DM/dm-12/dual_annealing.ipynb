{
 "cells": [
  {
   "cell_type": "markdown",
   "metadata": {},
   "source": [
    "### Test of dual_annealing  "
   ]
  },
  {
   "cell_type": "markdown",
   "metadata": {},
   "source": [
    "#### Import libraries  "
   ]
  },
  {
   "cell_type": "code",
   "execution_count": 1,
   "metadata": {},
   "outputs": [],
   "source": [
    "import numpy as np\n",
    "import pandas as pd\n",
    "from random import uniform\n",
    "from scipy.optimize import dual_annealing\n",
    "import matplotlib.pyplot as plt"
   ]
  },
  {
   "cell_type": "markdown",
   "metadata": {},
   "source": [
    "#### Cost function  \n",
    "Known as Ackley function  "
   ]
  },
  {
   "cell_type": "code",
   "execution_count": 2,
   "metadata": {},
   "outputs": [],
   "source": [
    "def ackley2d(x):\n",
    "    total = 20.0\n",
    "    s1 = (x[0]**2 + x[1]**2)/2\n",
    "    total -= 20.0 * np.exp(-0.2 * s1**0.5)\n",
    "    s2 = np.cos(2*np.pi*x[0]) + np.cos(2*np.pi*x[1])\n",
    "    total -= np.exp(s2 / 2)\n",
    "    # or\n",
    "    # total = 20.0\n",
    "    # s1 = np.sum(x**2) / 2\n",
    "    # total -= 20.0 * np.exp(-0.2 * s1**0.5)\n",
    "    # s2 = np.sum(np.cos(2*np.pi*x))\n",
    "    # total -= np.exp(s2 / 2)\n",
    "    return total"
   ]
  },
  {
   "cell_type": "markdown",
   "metadata": {},
   "source": [
    "#### Set bounds (lower, upper) for each x[i]  "
   ]
  },
  {
   "cell_type": "code",
   "execution_count": 3,
   "metadata": {},
   "outputs": [],
   "source": [
    "bounds = [(-30.0, 32.0), (-31.0, 31.0)]"
   ]
  },
  {
   "cell_type": "markdown",
   "metadata": {},
   "source": [
    "#### Multiple trial and check obtained minima  "
   ]
  },
  {
   "cell_type": "code",
   "execution_count": 4,
   "metadata": {},
   "outputs": [],
   "source": [
    "n_trial = 3"
   ]
  },
  {
   "cell_type": "code",
   "execution_count": 7,
   "metadata": {},
   "outputs": [
    {
     "output_type": "stream",
     "name": "stdout",
     "text": [
      "[-22.83811068  23.23722301]\n",
      "x: [-5.33001662e-09  2.36799117e-09]\n",
      "f(x): -2.7182818119626293\n",
      "[ 17.8841128  -25.63066477]\n",
      "x: [-2.30721271e-10 -7.54442395e-10]\n",
      "f(x): -2.718281826227607\n",
      "[-9.77972883 -1.13659761]\n",
      "x: [-4.47665875e-09  1.85097825e-10]\n",
      "f(x): -2.718281815786323\n"
     ]
    }
   ],
   "source": [
    "x = np.zeros(2)\n",
    "for i in range(n_trial):\n",
    "    # Initial value\n",
    "    x[0] = uniform(-30.0, 32.0)\n",
    "    x[1] = uniform(-31.0, 31.0)\n",
    "    print(x)  # debug\n",
    "    \n",
    "    # Dual annealing optimization\n",
    "    ret = dual_annealing(ackley2d, bounds, x0=x, maxiter=500, seed=19)\n",
    "    print('x:', ret.x)\n",
    "    print('f(x):', ret.fun)"
   ]
  },
  {
   "cell_type": "code",
   "execution_count": null,
   "metadata": {},
   "outputs": [],
   "source": []
  }
 ],
 "metadata": {
  "kernelspec": {
   "name": "python3",
   "display_name": "Python 3.8.5 64-bit ('venv': venv)"
  },
  "language_info": {
   "codemirror_mode": {
    "name": "ipython",
    "version": 3
   },
   "file_extension": ".py",
   "mimetype": "text/x-python",
   "name": "python",
   "nbconvert_exporter": "python",
   "pygments_lexer": "ipython3",
   "version": "3.8.5"
  },
  "interpreter": {
   "hash": "f48f60d3bd8ade39c79e8206c2b3575388f9e5bcd7c4232213d1cbf4ace226c1"
  }
 },
 "nbformat": 4,
 "nbformat_minor": 4
}