{
 "cells": [
  {
   "cell_type": "markdown",
   "metadata": {},
   "source": [
    "### Sample program for Association Analysis (Market Basket Analysis) using FP-Growth  "
   ]
  },
  {
   "cell_type": "markdown",
   "metadata": {},
   "source": [
    "#### Import libraries  "
   ]
  },
  {
   "cell_type": "code",
   "execution_count": 29,
   "metadata": {},
   "outputs": [],
   "source": [
    "import pandas as pd\n",
    "import pyfpgrowth  # https://fp-growth.readthedocs.io/en/latest/"
   ]
  },
  {
   "cell_type": "markdown",
   "metadata": {},
   "source": [
    "#### Parameters  "
   ]
  },
  {
   "cell_type": "code",
   "execution_count": 30,
   "metadata": {},
   "outputs": [],
   "source": [
    "csv_in = 'dm-12-quiz.csv'"
   ]
  },
  {
   "cell_type": "markdown",
   "metadata": {},
   "source": [
    "#### Read CSV file  "
   ]
  },
  {
   "cell_type": "code",
   "execution_count": 31,
   "metadata": {},
   "outputs": [
    {
     "output_type": "stream",
     "name": "stdout",
     "text": [
      "(318, 2)\n<class 'pandas.core.frame.DataFrame'>\nRangeIndex: 318 entries, 0 to 317\nData columns (total 2 columns):\n #   Column     Non-Null Count  Dtype \n---  ------     --------------  ----- \n 0   InvoiceNo  318 non-null    object\n 1   ItemNo     318 non-null    int64 \ndtypes: int64(1), object(1)\nmemory usage: 5.1+ KB\nNone\n"
     ]
    },
    {
     "output_type": "display_data",
     "data": {
      "text/plain": "  InvoiceNo  ItemNo\n0      T001       5\n1      T001       4\n2      T001       6\n3      T002       2\n4      T003       2",
      "text/html": "<div>\n<style scoped>\n    .dataframe tbody tr th:only-of-type {\n        vertical-align: middle;\n    }\n\n    .dataframe tbody tr th {\n        vertical-align: top;\n    }\n\n    .dataframe thead th {\n        text-align: right;\n    }\n</style>\n<table border=\"1\" class=\"dataframe\">\n  <thead>\n    <tr style=\"text-align: right;\">\n      <th></th>\n      <th>InvoiceNo</th>\n      <th>ItemNo</th>\n    </tr>\n  </thead>\n  <tbody>\n    <tr>\n      <th>0</th>\n      <td>T001</td>\n      <td>5</td>\n    </tr>\n    <tr>\n      <th>1</th>\n      <td>T001</td>\n      <td>4</td>\n    </tr>\n    <tr>\n      <th>2</th>\n      <td>T001</td>\n      <td>6</td>\n    </tr>\n    <tr>\n      <th>3</th>\n      <td>T002</td>\n      <td>2</td>\n    </tr>\n    <tr>\n      <th>4</th>\n      <td>T003</td>\n      <td>2</td>\n    </tr>\n  </tbody>\n</table>\n</div>"
     },
     "metadata": {}
    }
   ],
   "source": [
    "df = pd.read_csv(csv_in, delimiter=',', skiprows=0, header=0)\n",
    "print(df.shape)\n",
    "print(df.info())\n",
    "display(df.head())"
   ]
  },
  {
   "cell_type": "markdown",
   "metadata": {},
   "source": [
    "#### Check appearance of each StockCode  "
   ]
  },
  {
   "cell_type": "code",
   "execution_count": 32,
   "metadata": {},
   "outputs": [
    {
     "output_type": "stream",
     "name": "stdout",
     "text": [
      "7\n2    74\n3    60\n4    48\n1    47\n6    37\nName: ItemNo, dtype: int64\n"
     ]
    }
   ],
   "source": [
    "top_sc = df['ItemNo'].value_counts()\n",
    "print(top_sc.size)\n",
    "print(top_sc.head())"
   ]
  },
  {
   "cell_type": "markdown",
   "metadata": {},
   "source": [
    "#### Format transaction data  \n",
    "Before:  \n",
    "```\n",
    "invoice1, stockcode1, ...  \n",
    "invoice1, stockcode2, ...  \n",
    "invoice2, stockcode1, ...  \n",
    "invoice3, stockcode1, ...  \n",
    "invoice3, stockcode3, ...  \n",
    "```\n",
    "\n",
    "After:  \n",
    "```\n",
    "[  \n",
    "  [stockcode1, stockcode2],    \n",
    "  [stockcode1],  \n",
    "  [stockcode1, stockcode3],  \n",
    "  ...  \n",
    "]  \n",
    "```\n",
    "\n",
    "and stockcode should be interger.  "
   ]
  },
  {
   "cell_type": "markdown",
   "metadata": {},
   "source": [
    "#### Assign an integer (ID) to each stockcode  "
   ]
  },
  {
   "cell_type": "code",
   "execution_count": 33,
   "metadata": {},
   "outputs": [],
   "source": [
    "# id2sc = sorted(list(set(df['InvoiceNo'])))\n",
    "# sc2id = {}\n",
    "# for i in range(len(id2sc)):\n",
    "#     sc2id[id2sc[i]] = i"
   ]
  },
  {
   "cell_type": "code",
   "execution_count": 34,
   "metadata": {},
   "outputs": [],
   "source": [
    "# df['Invoice_ID'] = df['InvoiceNo'].map(lambda x: sc2id[x])\n",
    "# display(df.head())"
   ]
  },
  {
   "cell_type": "markdown",
   "metadata": {},
   "source": [
    "#### Grouping transaction data by InvoiceNo  "
   ]
  },
  {
   "cell_type": "code",
   "execution_count": 35,
   "metadata": {
    "tags": []
   },
   "outputs": [
    {
     "output_type": "stream",
     "name": "stdout",
     "text": [
      "150\n[[4, 5, 6], [2], [2, 3, 7]]\n"
     ]
    }
   ],
   "source": [
    "invoices = []\n",
    "for r in df.groupby('InvoiceNo'):\n",
    "    s1 = set(r[1]['ItemNo'])\n",
    "    invoices.append(list(s1))\n",
    "print(len(invoices))\n",
    "print(invoices[:3])"
   ]
  },
  {
   "cell_type": "markdown",
   "metadata": {},
   "source": [
    "#### Market Basket Analysis by FP-Growth  "
   ]
  },
  {
   "cell_type": "code",
   "execution_count": 36,
   "metadata": {},
   "outputs": [
    {
     "output_type": "stream",
     "name": "stdout",
     "text": [
      "CPU times: user 800 µs, sys: 0 ns, total: 800 µs\nWall time: 804 µs\n"
     ]
    }
   ],
   "source": [
    "%time patterns = pyfpgrowth.find_frequent_patterns(invoices, 5)"
   ]
  },
  {
   "cell_type": "code",
   "execution_count": 37,
   "metadata": {},
   "outputs": [],
   "source": [
    "#print(patterns)"
   ]
  },
  {
   "cell_type": "code",
   "execution_count": 38,
   "metadata": {},
   "outputs": [
    {
     "output_type": "stream",
     "name": "stdout",
     "text": [
      "CPU times: user 0 ns, sys: 58 µs, total: 58 µs\nWall time: 59.4 µs\n"
     ]
    }
   ],
   "source": [
    "%time rules = pyfpgrowth.generate_association_rules(patterns, 0.3)"
   ]
  },
  {
   "cell_type": "code",
   "execution_count": 39,
   "metadata": {},
   "outputs": [
    {
     "output_type": "stream",
     "name": "stdout",
     "text": [
      "{(1, 3): ((2,), 0.3125), (1, 2): ((4,), 0.35), (3,): ((2,), 0.3448275862068966), (2,): ((4,), 0.35135135135135137)}\n"
     ]
    }
   ],
   "source": [
    "print(rules)"
   ]
  },
  {
   "cell_type": "code",
   "execution_count": 40,
   "metadata": {},
   "outputs": [],
   "source": [
    "results = []\n",
    "for x in rules:\n",
    "    ret = [x, rules[x][0], rules[x][1]]\n",
    "    results.append(ret)\n",
    "df_res = pd.DataFrame(results)\n",
    "df_res.columns = ['LHS', 'RHS', 'Conf']"
   ]
  },
  {
   "cell_type": "code",
   "execution_count": 41,
   "metadata": {},
   "outputs": [
    {
     "output_type": "display_data",
     "data": {
      "text/plain": "      LHS   RHS      Conf\n3    (2,)  (4,)  0.351351\n1  (1, 2)  (4,)  0.350000\n2    (3,)  (2,)  0.344828\n0  (1, 3)  (2,)  0.312500",
      "text/html": "<div>\n<style scoped>\n    .dataframe tbody tr th:only-of-type {\n        vertical-align: middle;\n    }\n\n    .dataframe tbody tr th {\n        vertical-align: top;\n    }\n\n    .dataframe thead th {\n        text-align: right;\n    }\n</style>\n<table border=\"1\" class=\"dataframe\">\n  <thead>\n    <tr style=\"text-align: right;\">\n      <th></th>\n      <th>LHS</th>\n      <th>RHS</th>\n      <th>Conf</th>\n    </tr>\n  </thead>\n  <tbody>\n    <tr>\n      <th>3</th>\n      <td>(2,)</td>\n      <td>(4,)</td>\n      <td>0.351351</td>\n    </tr>\n    <tr>\n      <th>1</th>\n      <td>(1, 2)</td>\n      <td>(4,)</td>\n      <td>0.350000</td>\n    </tr>\n    <tr>\n      <th>2</th>\n      <td>(3,)</td>\n      <td>(2,)</td>\n      <td>0.344828</td>\n    </tr>\n    <tr>\n      <th>0</th>\n      <td>(1, 3)</td>\n      <td>(2,)</td>\n      <td>0.312500</td>\n    </tr>\n  </tbody>\n</table>\n</div>"
     },
     "metadata": {}
    }
   ],
   "source": [
    "display(df_res.sort_values(by='Conf', ascending=False))"
   ]
  },
  {
   "cell_type": "markdown",
   "metadata": {},
   "source": [
    "#### Get original StockCode  "
   ]
  },
  {
   "cell_type": "code",
   "execution_count": 42,
   "metadata": {},
   "outputs": [
    {
     "output_type": "error",
     "ename": "IndexError",
     "evalue": "list index out of range",
     "traceback": [
      "\u001b[0;31m---------------------------------------------------------------------------\u001b[0m",
      "\u001b[0;31mIndexError\u001b[0m                                Traceback (most recent call last)",
      "\u001b[0;32m<ipython-input-42-98eb590e5e5a>\u001b[0m in \u001b[0;36m<module>\u001b[0;34m\u001b[0m\n\u001b[0;32m----> 1\u001b[0;31m \u001b[0mprint\u001b[0m\u001b[0;34m(\u001b[0m\u001b[0mid2sc\u001b[0m\u001b[0;34m[\u001b[0m\u001b[0;36m1474\u001b[0m\u001b[0;34m]\u001b[0m\u001b[0;34m)\u001b[0m\u001b[0;34m\u001b[0m\u001b[0;34m\u001b[0m\u001b[0m\n\u001b[0m\u001b[1;32m      2\u001b[0m \u001b[0mprint\u001b[0m\u001b[0;34m(\u001b[0m\u001b[0mid2sc\u001b[0m\u001b[0;34m[\u001b[0m\u001b[0;36m1475\u001b[0m\u001b[0;34m]\u001b[0m\u001b[0;34m)\u001b[0m\u001b[0;34m\u001b[0m\u001b[0;34m\u001b[0m\u001b[0m\n\u001b[1;32m      3\u001b[0m \u001b[0mprint\u001b[0m\u001b[0;34m(\u001b[0m\u001b[0mid2sc\u001b[0m\u001b[0;34m[\u001b[0m\u001b[0;36m1478\u001b[0m\u001b[0;34m]\u001b[0m\u001b[0;34m)\u001b[0m\u001b[0;34m\u001b[0m\u001b[0;34m\u001b[0m\u001b[0m\n",
      "\u001b[0;31mIndexError\u001b[0m: list index out of range"
     ]
    }
   ],
   "source": [
    "print(id2sc[1474])\n",
    "print(id2sc[1475])\n",
    "print(id2sc[1478])"
   ]
  },
  {
   "cell_type": "markdown",
   "metadata": {},
   "source": [
    "#### Calculation of Lift  "
   ]
  },
  {
   "cell_type": "code",
   "execution_count": 43,
   "metadata": {},
   "outputs": [],
   "source": [
    "n_all = len(invoices)\n",
    "lift = []\n",
    "for i in range(df_res.shape[0]):\n",
    "    rhs = df_res.at[i, 'RHS']\n",
    "    conf = df_res.at[i, 'Conf']\n",
    "    n_rhs = 0\n",
    "    for items in invoices:\n",
    "        if set(items) >= set(rhs):\n",
    "            n_rhs += 1\n",
    "    lift1 = conf / (n_rhs / n_all)\n",
    "    lift.append(lift1)\n",
    "    \n",
    "df_res['Lift'] = lift"
   ]
  },
  {
   "cell_type": "code",
   "execution_count": 44,
   "metadata": {},
   "outputs": [
    {
     "output_type": "display_data",
     "data": {
      "text/plain": "      LHS   RHS      Conf      Lift\n3    (2,)  (4,)  0.351351  1.097973\n1  (1, 2)  (4,)  0.350000  1.093750\n2    (3,)  (2,)  0.344828  0.698975\n0  (1, 3)  (2,)  0.312500  0.633446",
      "text/html": "<div>\n<style scoped>\n    .dataframe tbody tr th:only-of-type {\n        vertical-align: middle;\n    }\n\n    .dataframe tbody tr th {\n        vertical-align: top;\n    }\n\n    .dataframe thead th {\n        text-align: right;\n    }\n</style>\n<table border=\"1\" class=\"dataframe\">\n  <thead>\n    <tr style=\"text-align: right;\">\n      <th></th>\n      <th>LHS</th>\n      <th>RHS</th>\n      <th>Conf</th>\n      <th>Lift</th>\n    </tr>\n  </thead>\n  <tbody>\n    <tr>\n      <th>3</th>\n      <td>(2,)</td>\n      <td>(4,)</td>\n      <td>0.351351</td>\n      <td>1.097973</td>\n    </tr>\n    <tr>\n      <th>1</th>\n      <td>(1, 2)</td>\n      <td>(4,)</td>\n      <td>0.350000</td>\n      <td>1.093750</td>\n    </tr>\n    <tr>\n      <th>2</th>\n      <td>(3,)</td>\n      <td>(2,)</td>\n      <td>0.344828</td>\n      <td>0.698975</td>\n    </tr>\n    <tr>\n      <th>0</th>\n      <td>(1, 3)</td>\n      <td>(2,)</td>\n      <td>0.312500</td>\n      <td>0.633446</td>\n    </tr>\n  </tbody>\n</table>\n</div>"
     },
     "metadata": {}
    }
   ],
   "source": [
    "display(df_res.sort_values(by='Conf', ascending=False))"
   ]
  },
  {
   "cell_type": "code",
   "execution_count": null,
   "metadata": {},
   "outputs": [],
   "source": []
  }
 ],
 "metadata": {
  "kernelspec": {
   "name": "python3",
   "display_name": "Python 3.8.5 64-bit ('venv': venv)"
  },
  "language_info": {
   "codemirror_mode": {
    "name": "ipython",
    "version": 3
   },
   "file_extension": ".py",
   "mimetype": "text/x-python",
   "name": "python",
   "nbconvert_exporter": "python",
   "pygments_lexer": "ipython3",
   "version": "3.8.5"
  },
  "interpreter": {
   "hash": "f48f60d3bd8ade39c79e8206c2b3575388f9e5bcd7c4232213d1cbf4ace226c1"
  }
 },
 "nbformat": 4,
 "nbformat_minor": 4
}