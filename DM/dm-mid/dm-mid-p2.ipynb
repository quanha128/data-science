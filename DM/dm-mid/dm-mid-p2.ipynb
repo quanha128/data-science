{
 "cells": [
  {
   "cell_type": "code",
   "execution_count": 2,
   "id": "european-light",
   "metadata": {},
   "outputs": [],
   "source": [
    "import numpy as np\n",
    "import scipy.stats as ss"
   ]
  },
  {
   "cell_type": "code",
   "execution_count": 3,
   "id": "choice-scanner",
   "metadata": {},
   "outputs": [
    {
     "output_type": "stream",
     "name": "stdout",
     "text": [
      "-0.5178201765818219 0.6203861469312417\n"
     ]
    }
   ],
   "source": [
    "np_A = np.array([18.2, 20.3, 21.2, 19.8, 21.0])\n",
    "np_B = np.array([21.3, 20.8, 18.8, 20.2, 20.9, 19.8, 21.2])\n",
    "t, p = ss.ttest_ind(np_A, np_B, equal_var=False)\n",
    "print(t, p)"
   ]
  },
  {
   "cell_type": "code",
   "execution_count": null,
   "metadata": {},
   "outputs": [],
   "source": []
  }
 ],
 "metadata": {
  "kernelspec": {
   "display_name": "Python 3",
   "language": "python",
   "name": "python3"
  },
  "language_info": {
   "codemirror_mode": {
    "name": "ipython",
    "version": 3
   },
   "file_extension": ".py",
   "mimetype": "text/x-python",
   "name": "python",
   "nbconvert_exporter": "python",
   "pygments_lexer": "ipython3",
   "version": "3.8.5"
  }
 },
 "nbformat": 4,
 "nbformat_minor": 5
}